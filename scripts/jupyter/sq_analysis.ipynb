{
 "cells": [
  {
   "cell_type": "code",
   "execution_count": 12,
   "metadata": {},
   "outputs": [
    {
     "name": "stdout",
     "output_type": "stream",
     "text": [
      "/iliad/u/belkhale/muse\n"
     ]
    }
   ],
   "source": [
    "# %cd ~/PycharmProjects/muse\n",
    "%cd /iliad/u/belkhale/muse\n",
    "from matplotlib import pyplot as plt\n",
    "import matplotlib.colors as colors\n",
    "import numpy as np\n",
    "\n",
    "\n",
    "def sweep_from_arr(arr):\n",
    "    s = \"[[[ \"\n",
    "    for a in arr:\n",
    "        s = s + str(a) + \" \"\n",
    "    s = s + \"]]]\"\n",
    "    return s\n"
   ]
  },
  {
   "cell_type": "code",
   "execution_count": 13,
   "metadata": {},
   "outputs": [],
   "source": [
    "# show the state diversity needed?\n",
    "\n",
    "def plot_2d_state_heatmap(data, t1=None, t2=None, xy_key='robot0_eef_pos', done_key='done', n_bins=30, vmax=200, num_rollouts=None, log=True, ax=None):\n",
    "    xy = data[xy_key]\n",
    "\n",
    "    splits = data[done_key].nonzero()[0][:-1] + 1\n",
    "    episodes = np.split(xy, splits, axis=0)\n",
    "    if num_rollouts is not None:\n",
    "        episodes = episodes[:num_rollouts]\n",
    "\n",
    "    if t1 is not None:\n",
    "        if t2 is None:\n",
    "            episodes = [ep[t1:] for ep in episodes]\n",
    "        else:\n",
    "            episodes = [ep[t1:t2] for ep in episodes]\n",
    "\n",
    "    partial_xy = np.concatenate(episodes)\n",
    "    x, y = partial_xy[..., 0], partial_xy[..., 1]\n",
    "    \n",
    "    if log:\n",
    "#         norm = colors.LogNorm(vmin=1, vmax=vmax+1)\n",
    "        norm = colors.FuncNorm((lambda v: np.log(v + 1) / np.log(vmax + 1), lambda v: np.exp(v*np.log(vmax+1))),\n",
    "                               vmin=0, vmax=vmax)\n",
    "    else:\n",
    "        norm = None\n",
    "    \n",
    "    if ax is not None:\n",
    "        return ax.hist2d(x, y, bins=(n_bins, n_bins), cmap=plt.cm.jet, \n",
    "                           norm=norm)[-1]\n",
    "    else:\n",
    "        plt.hist2d(x, y, bins=(n_bins, n_bins), cmap=plt.cm.jet, \n",
    "                           norm=norm)\n",
    "        plt.colorbar()\n",
    "        plt.show()"
   ]
  },
  {
   "cell_type": "code",
   "execution_count": 14,
   "metadata": {},
   "outputs": [
    {
     "name": "stdout",
     "output_type": "stream",
     "text": [
      "Loading human_square_30k.npz\n"
     ]
    },
    {
     "data": {
      "image/png": "[encoded data removed]",
      "text/plain": [
       "<Figure size 640x480 with 2 Axes>"
      ]
     },
     "metadata": {},
     "output_type": "display_data"
    }
   ],
   "source": [
    "name = 'human_square_30k.npz'\n",
    "file = f'data/hvs/{name}'\n",
    "print(\"Loading\", name)\n",
    "plot_2d_state_heatmap(dict(np.load(file, allow_pickle=True)), t1=-1)"
   ]
  },
  {
   "cell_type": "markdown",
   "metadata": {},
   "source": [
    "# LEARNED"
   ]
  },
  {
   "cell_type": "code",
   "execution_count": 15,
   "metadata": {},
   "outputs": [],
   "source": [
    "def compute_success_rate(path, num_rollouts, max_steps=None):\n",
    "    data = dict(np.load(path, allow_pickle=True))\n",
    "    splits = np.nonzero(data['done'])[0][:-1] + 1\n",
    "    rew_chunks = np.split(data['reward'].reshape(-1), splits)\n",
    "    if max_steps is not None:\n",
    "        # only look at max reward over first \"max_steps\" steps\n",
    "        rew_chunks = [r[:max_steps] for r in rew_chunks]\n",
    "    assert len(rew_chunks) == num_rollouts, len(rew_chunks)\n",
    "    each_return = np.array([np.max(rews) for rews in rew_chunks])\n",
    "    return np.mean(each_return)\n",
    "    \n",
    "def compute_traj_len(path, num_rollouts, max_steps=None):\n",
    "    data = dict(np.load(path, allow_pickle=True))\n",
    "    splits = np.nonzero(data['done'])[0][:-1] + 1\n",
    "    rew_chunks = np.split(data['reward'].reshape(-1), splits)\n",
    "    assert len(rew_chunks) == num_rollouts, len(rew_chunks)\n",
    "    each_len = np.array([len(rews) for rews in rew_chunks])\n",
    "    return np.mean(each_len)\n",
    "\n",
    "def compute_traj_std(path, num_rollouts, max_steps=None):\n",
    "    data = dict(np.load(path, allow_pickle=True))\n",
    "    splits = np.nonzero(data['done'])[0][:-1] + 1\n",
    "    rew_chunks = np.split(data['reward'].reshape(-1), splits)\n",
    "    assert len(rew_chunks) == num_rollouts, len(rew_chunks)\n",
    "    each_len = np.array([len(rews) for rews in rew_chunks])\n",
    "    return np.std(each_len)\n",
    "    "
   ]
  },
  {
   "cell_type": "code",
   "execution_count": 22,
   "metadata": {},
   "outputs": [],
   "source": [
    "# extract success rates for each set of rollouts\n",
    "import os\n",
    "from configs.utils import hr_name\n",
    "\n",
    "def print_metric(noise_type='s', prefix=\"best_\", num_rollouts=100, dset_override=None, metric_fn=compute_success_rate):\n",
    "\n",
    "    s_noises = [0.05, 0.1, 0.2]\n",
    "    typed_noises = {\n",
    "        'h': [0],  # human has no noise\n",
    "        'p': [0, 0.005, 0.01, 0.02],\n",
    "        's': s_noises,\n",
    "    }[noise_type]\n",
    "\n",
    "    dset_suffs = ['', '-first100', '-first50']\n",
    "    if dset_override is not None:\n",
    "        dset_suffs = [dset_override]\n",
    "    \n",
    "    batch_sizes = [256 for _ in dset_suffs]\n",
    "\n",
    "    for batch_size, suff in zip(batch_sizes, dset_suffs):\n",
    "        success = np.empty((len(typed_noises), len(s_noises)), dtype=np.float32)\n",
    "        for i, n in enumerate(typed_noises):\n",
    "            hr_s_sweep = sweep_from_arr(s_noises)\n",
    "            # special case for zero noise\n",
    "            if n == 0:\n",
    "                noise = \"\"\n",
    "            else:\n",
    "                noise = f\"_l{noise_type}n{hr_name(n)}\"\n",
    "\n",
    "            save_names = [f\"{prefix}eval{num_rollouts}_lsn{hr_name(inner_s)}.npz\" for inner_s in s_noises]\n",
    "            hr_names = sweep_from_arr(save_names)\n",
    "\n",
    "            # single dataset overrides the list of suffixes.\n",
    "            if dset_override is not None:\n",
    "                dset = suff\n",
    "            else:\n",
    "                assert noise_type != 'h', \"Human dataset requires dset override!\"\n",
    "            dset = f\"scripted_rm{noise}_square_200ep{suff}\"\n",
    "\n",
    "            exp_name = f'experiments/hvs/velact_b{batch_size}_h10_{dset}_bc-l2_mlp400-d2'\n",
    "            for j, file in enumerate(save_names):\n",
    "                path = f\"{exp_name}/{file}\"\n",
    "                assert os.path.exists(path), path\n",
    "                success[i, j] = metric_fn(path, num_rollouts)\n",
    "\n",
    "        print(f\"Suff='{suff}'...\")\n",
    "        print(success)\n",
    "        print('------------------------------')\n"
   ]
  },
  {
   "cell_type": "code",
   "execution_count": 23,
   "metadata": {},
   "outputs": [
    {
     "name": "stdout",
     "output_type": "stream",
     "text": [
      "SYSTEM NOISE\n",
      "Suff=''...\n",
      "[[0.61 0.59 0.31]\n",
      " [0.76 0.82 0.73]\n",
      " [0.62 0.7  0.85]]\n",
      "------------------------------\n",
      "Suff='-first100'...\n",
      "[[0.73 0.62 0.45]\n",
      " [0.73 0.79 0.62]\n",
      " [0.73 0.84 0.79]]\n",
      "------------------------------\n",
      "Suff='-first50'...\n",
      "[[0.63 0.58 0.31]\n",
      " [0.65 0.69 0.73]\n",
      " [0.55 0.79 0.87]]\n",
      "------------------------------\n",
      "\n",
      "POLICY NOISE\n",
      "Suff=''...\n",
      "[[0.3  0.29 0.07]\n",
      " [0.65 0.64 0.31]\n",
      " [0.87 0.81 0.52]\n",
      " [0.8  0.81 0.8 ]]\n",
      "------------------------------\n",
      "Suff='-first100'...\n",
      "[[0.26 0.23 0.09]\n",
      " [0.79 0.65 0.4 ]\n",
      " [0.93 0.94 0.76]\n",
      " [0.61 0.59 0.47]]\n",
      "------------------------------\n",
      "Suff='-first50'...\n",
      "[[0.19 0.17 0.09]\n",
      " [0.69 0.6  0.32]\n",
      " [0.85 0.9  0.8 ]\n",
      " [0.66 0.78 0.83]]\n",
      "------------------------------\n"
     ]
    }
   ],
   "source": [
    "print('SYSTEM NOISE')\n",
    "print_metric(noise_type='s', prefix='best_')\n",
    "print('\\nPOLICY NOISE')\n",
    "print_metric(noise_type='p', prefix='best_')"
   ]
  },
  {
   "cell_type": "code",
   "execution_count": 27,
   "metadata": {},
   "outputs": [
    {
     "name": "stdout",
     "output_type": "stream",
     "text": [
      "scripted_rm_lsn0_05_square_200ep.npz 1.0\n",
      "scripted_rm_lsn0_1_square_200ep.npz 1.0\n",
      "scripted_rm_lsn0_2_square_200ep.npz 1.0\n",
      "scripted_rm_square_200ep.npz 1.0\n",
      "scripted_rm_lpn0_005_square_200ep.npz 1.0\n",
      "scripted_rm_lpn0_01_square_200ep.npz 1.0\n",
      "scripted_rm_lpn0_02_square_200ep.npz 1.0\n"
     ]
    }
   ],
   "source": [
    "# success rate for scripted policy, policy noise datasets (100 step max)\n",
    "fs = [\n",
    "    'scripted_rm_lsn0_05_square_200ep.npz',\n",
    "    'scripted_rm_lsn0_1_square_200ep.npz',\n",
    "    'scripted_rm_lsn0_2_square_200ep.npz',\n",
    "    'scripted_rm_square_200ep.npz',\n",
    "    'scripted_rm_lpn0_005_square_200ep.npz',\n",
    "    'scripted_rm_lpn0_01_square_200ep.npz',\n",
    "    'scripted_rm_lpn0_02_square_200ep.npz',\n",
    "]\n",
    "for f in fs:\n",
    "    print(f, compute_success_rate(f'data/hvs/{f}', 200))"
   ]
  },
  {
   "cell_type": "markdown",
   "metadata": {},
   "source": [
    "# TRAJECTORY LENGTH"
   ]
  },
  {
   "cell_type": "code",
   "execution_count": 30,
   "metadata": {},
   "outputs": [
    {
     "name": "stdout",
     "output_type": "stream",
     "text": [
      "scripted_rm_lsn0_05_square_200ep.npz 234.545\n",
      "scripted_rm_lsn0_1_square_200ep.npz 236.62\n",
      "scripted_rm_lsn0_2_square_200ep.npz 253.165\n",
      "#################\n",
      "scripted_rm_lpn0_005_square_200ep.npz 234.9\n",
      "scripted_rm_lpn0_01_square_200ep.npz 251.43\n",
      "scripted_rm_lpn0_02_square_200ep.npz 290.555\n"
     ]
    }
   ],
   "source": [
    "# MEAN\n",
    "for f in fs[:3]:\n",
    "    print(f, compute_traj_len(f'data/hvs/{f}', 200))\n",
    "\n",
    "print('#################')\n",
    "for f in fs[4:]:\n",
    "    print(f, compute_traj_len(f'data/hvs/{f}', 200))\n"
   ]
  },
  {
   "cell_type": "code",
   "execution_count": 31,
   "metadata": {},
   "outputs": [
    {
     "name": "stdout",
     "output_type": "stream",
     "text": [
      "scripted_rm_lsn0_05_square_200ep.npz 22.79118195706401\n",
      "scripted_rm_lsn0_1_square_200ep.npz 24.738746936738732\n",
      "scripted_rm_lsn0_2_square_200ep.npz 25.70306936924071\n",
      "#################\n",
      "scripted_rm_lpn0_005_square_200ep.npz 21.95267637441959\n",
      "scripted_rm_lpn0_01_square_200ep.npz 28.25004601766164\n",
      "scripted_rm_lpn0_02_square_200ep.npz 37.41078688025688\n"
     ]
    }
   ],
   "source": [
    "# STD\n",
    "for f in fs[:3]:\n",
    "    print(f, compute_traj_std(f'data/hvs/{f}', 200))\n",
    "\n",
    "print('#################')\n",
    "for f in fs[4:]:\n",
    "    print(f, compute_traj_std(f'data/hvs/{f}', 200))\n"
   ]
  }
 ],
 "metadata": {
  "kernelspec": {
   "display_name": "Python 3 (ipykernel)",
   "language": "python",
   "name": "python3"
  },
  "language_info": {
   "codemirror_mode": {
    "name": "ipython",
    "version": 3
   },
   "file_extension": ".py",
   "mimetype": "text/x-python",
   "name": "python",
   "nbconvert_exporter": "python",
   "pygments_lexer": "ipython3",
   "version": "3.10.9"
  }
 },
 "nbformat": 4,
 "nbformat_minor": 1
}
